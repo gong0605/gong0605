{
  "nbformat": 4,
  "nbformat_minor": 0,
  "metadata": {
    "colab": {
      "name": "도전문제3.ipynb",
      "provenance": [],
      "authorship_tag": "ABX9TyOuufZbMDXiukhFW6p8ccUW",
      "include_colab_link": true
    },
    "kernelspec": {
      "name": "python3",
      "display_name": "Python 3"
    },
    "language_info": {
      "name": "python"
    }
  },
  "cells": [
    {
      "cell_type": "markdown",
      "metadata": {
        "id": "view-in-github",
        "colab_type": "text"
      },
      "source": [
        "<a href=\"https://colab.research.google.com/github/gong0605/gong0605/blob/main/%EB%8F%84%EC%A0%84%EB%AC%B8%EC%A0%9C3.ipynb\" target=\"_parent\"><img src=\"https://colab.research.google.com/assets/colab-badge.svg\" alt=\"Open In Colab\"/></a>"
      ]
    },
    {
      "cell_type": "code",
      "execution_count": 6,
      "metadata": {
        "colab": {
          "base_uri": "https://localhost:8080/"
        },
        "id": "YytGRj_gH8zL",
        "outputId": "ffc53b15-ad1b-4dce-9b41-a7af50174923"
      },
      "outputs": [
        {
          "output_type": "stream",
          "name": "stdout",
          "text": [
            "아메리카노 판매 개수: 34\n",
            "카페라테 판매 개수: 2\n",
            "카푸치노 판매 개수: 5\n",
            "총 매출은 91500 입니다.\n",
            "적자입니다.\n",
            "#####\n",
            "섭씨온도: 23\n",
            "화씨온도: 73.4\n",
            "#####\n",
            "투입한 돈:34\n",
            "물건 값:2\n",
            "거스름돈: 32\n",
            "500원 동전의 개수:  0\n",
            "100원 동전의 개수:  0\n",
            "50원 동전의 개수:  0\n",
            "10원 동전의 개수:  3\n",
            "#####\n",
            "투입한 돈: 435\n",
            "물건 값: 3\n",
            "500원 동전의 개수: 0\n",
            "100원 동전의 개수: 4\n"
          ]
        }
      ],
      "source": [
        "#1번\n",
        "total=100000\n",
        "americano_price=2000\n",
        "cafelatte_price=3000\n",
        "capucino_price=3500\n",
        "americanos=int(input(\"아메리카노 판매 개수: \"))\n",
        "cafelattes=int(input(\"카페라테 판매 개수: \"))\n",
        "capucinos=int(input(\"카푸치노 판매 개수: \"))\n",
        "sales=americanos*americano_price\n",
        "sales=sales + cafelattes * cafelatte_price\n",
        "sales=sales + capucinos * capucino_price\n",
        "print(\"총 매출은\",sales,\"입니다.\")\n",
        "if (total < sales):print(\"흑자입니다.\")\n",
        "else:print(\"적자입니다.\")\n",
        "print(\"#\"*5)\n",
        "#2번\n",
        "ctemp = int(input(\"섭씨온도: \"))\n",
        "ftemp = 9/5*ctemp+32\n",
        "print(\"화씨온도:\",ftemp)\n",
        "print(\"#\"*5)\n",
        "#3번\n",
        "money = int(input(\"투입한 돈:\"))\n",
        "price = int(input(\"물건 값:\"))\n",
        "change=money-price\n",
        "print(\"거스름돈:\",change)\n",
        "coin500s = change // 500 \n",
        "change = change % 500\n",
        "coin100s = change // 100\n",
        "change = change % 100\n",
        "coin50s = change // 50\n",
        "change = change % 50\n",
        "coin10s = change // 10 \n",
        "change = change % 10\n",
        "print(\"500원 동전의 개수: \", coin500s)\n",
        "print(\"100원 동전의 개수: \",coin100s)\n",
        "print(\"50원 동전의 개수: \",coin50s)\n",
        "print(\"10원 동전의 개수: \",coin10s)\n",
        "print(\"#\"*5)\n",
        "#4번\n",
        "money = int(input(\"투입한 돈: \"))\n",
        "price = int(input(\"물건 값: \"))\n",
        "change = money - price \n",
        "coin500s = change // 500 \n",
        "change = change % 500 \n",
        "coin100s = change // 100 \n",
        "print(\"500원 동전의 개수:\", coin500s)\n",
        "print(\"100원 동전의 개수:\", coin100s)"
      ]
    }
  ]
}