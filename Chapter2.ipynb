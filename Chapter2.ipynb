{
  "nbformat": 4,
  "nbformat_minor": 0,
  "metadata": {
    "colab": {
      "name": "Chapter2.ipynb",
      "provenance": [],
      "authorship_tag": "ABX9TyNfmOswrPDUyuhyxlk9ZlKJ",
      "include_colab_link": true
    },
    "kernelspec": {
      "name": "python3",
      "display_name": "Python 3"
    },
    "language_info": {
      "name": "python"
    }
  },
  "cells": [
    {
      "cell_type": "markdown",
      "metadata": {
        "id": "view-in-github",
        "colab_type": "text"
      },
      "source": [
        "<a href=\"https://colab.research.google.com/github/gong0605/gong0605/blob/main/Chapter2.ipynb\" target=\"_parent\"><img src=\"https://colab.research.google.com/assets/colab-badge.svg\" alt=\"Open In Colab\"/></a>"
      ]
    },
    {
      "cell_type": "code",
      "metadata": {
        "id": "8h-sDONZZDye",
        "outputId": "a45bef30-cc2d-428f-b23a-db096b1b569f",
        "colab": {
          "base_uri": "https://localhost:8080/"
        }
      },
      "source": [
        "#1번\n",
        "name=input(\"이름을 입력하시오: \")\n",
        "age=int(input(\"나이를 입력하시오: \"))\n",
        "year=2021-age+100\n",
        "print(name+\"씨는 \"+str(year)+\"년에 100살이시네요!\")\n",
        "#2번\n",
        "n1=int(input(\"첫 번째 숫자를 입력하시오: \"))\n",
        "n2=int(input(\"두 번째 숫자를 입력하시오: \"))\n",
        "n3=int(input(\"세 번째 숫자를 입력하시오: \"))\n",
        "average=(n1+n2+n3)/3\n",
        "print(\"n1, n2, n3의 평균은\", average, \"입니다.\")\n",
        "#3번\n",
        "radius=int(input(\"반지름을 입력하시오: \"))\n",
        "area=3.141592*radius*radius\n",
        "print(\"반지름이\", radius, \"인 원이 넓이 =\", area,\"입니다.\")\n",
        "#4번\n",
        "#import turtle\n",
        "#t=turtle.Turtle()\n",
        "#t.shape(\"turtle\")\n",
        "#radius=50\n",
        "#t.up()\n",
        "#t.goto(0,0)\n",
        "#t.down()\n",
        "#t.circle(radius)\n",
        "#radius=radius+20\n",
        "#t.up()\n",
        "#t.goto(100,0)\n",
        "#t.down()\n",
        "#t.circle(radius)\n",
        "#radius=radius+20\n",
        "#t.up()\n",
        "#t.goto(200,0)\n",
        "#t.down()\n",
        "#t.circle(radius)\n",
        "#t._screen.exitionclick()\n",
        "#5번\n",
        "#import turtle\n",
        "#t=turtle.Turtle()\n",
        "#t.shape(\"turtle\")\n",
        "#side=50\n",
        "#t.forward(side)\n",
        "#t.left(120)\n",
        "#t.forward(side)\n",
        "#t.left(120)\n",
        "#t.forward(side)\n",
        "#t.left(120)\n",
        "#t._screen.exitionclick()\n",
        "#6번\n",
        "#import turtle\n",
        "#t=turtle.Turtle()\n",
        "#t.shape(\"turtle\")\n",
        "#side=200\n",
        "#t.forward(side)\n",
        "#t.left(120)\n",
        "#t.forward(side)\n",
        "#t.left(120)\n",
        "#t.forward(side)\n",
        "#t.left(120)\n",
        "#t._screen.exitionclick()\n",
        "#7번\n",
        "#import turtle\n",
        "#t=turtle.Turtle()\n",
        "#t.shape(\"turtle\")\n",
        "#side=50\n",
        "#angle=90\n",
        "#t.forward(side); t.right(angle); t.forward(side); t.right(angle); t.forward(side); t.right(angle); t.forward(side)\n",
        "#t.forward(side); t.right(angle); t.forward(side); t.right(angle); t.forward(side) \n",
        "#t.forward(side); t.right(angle); t.right(180)\n",
        "#t.forward(side); t.right(angle); t.forward(side); t.right(angle); t.forward(side); t.right(angle); t.forward(side)\n",
        "#t.forward(side); t.right(angle); t.forward(side); t.right(angle); t.forward(side)\n",
        "#t.write(\"닫으려면 화면 클릭\"); t._screen.exitionclick()"
      ],
      "execution_count": 4,
      "outputs": [
        {
          "output_type": "stream",
          "name": "stdout",
          "text": [
            "이름을 입력하시오: 공현석\n",
            "나이를 입력하시오: 20\n",
            "공현석씨는 2101년에 100살이시네요!\n",
            "첫 번째 숫자를 입력하시오: 5\n",
            "두 번째 숫자를 입력하시오: 7\n",
            "세 번째 숫자를 입력하시오: 8\n",
            "n1, n2, n3의 평균은 6.666666666666667 입니다.\n",
            "반지름을 입력하시오: 4\n",
            "반지름이 4 인 원이 넓이 = 50.265472 입니다.\n"
          ]
        }
      ]
    }
  ]
}