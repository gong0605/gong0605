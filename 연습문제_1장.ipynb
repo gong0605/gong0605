{
  "nbformat": 4,
  "nbformat_minor": 0,
  "metadata": {
    "colab": {
      "name": "연습문제 1장",
      "provenance": [],
      "authorship_tag": "ABX9TyOWW1SpGNy+Ml/Z2JqHmVf8",
      "include_colab_link": true
    },
    "kernelspec": {
      "name": "python3",
      "display_name": "Python 3"
    },
    "language_info": {
      "name": "python"
    }
  },
  "cells": [
    {
      "cell_type": "markdown",
      "metadata": {
        "id": "view-in-github",
        "colab_type": "text"
      },
      "source": [
        "<a href=\"https://colab.research.google.com/github/gong0605/gong0605/blob/main/%EC%97%B0%EC%8A%B5%EB%AC%B8%EC%A0%9C_1%EC%9E%A5.ipynb\" target=\"_parent\"><img src=\"https://colab.research.google.com/assets/colab-badge.svg\" alt=\"Open In Colab\"/></a>"
      ]
    },
    {
      "cell_type": "code",
      "metadata": {
        "colab": {
          "base_uri": "https://localhost:8080/"
        },
        "id": "JZYpYM_GN3Ud",
        "outputId": "e4dada08-b201-424a-9266-aefa61a023eb"
      },
      "source": [
        "#1번\n",
        "print(\"환영합니다.\")\n",
        "print(\"파이썬의 세계에 오신 것을 환영합니다.\")\n",
        "print(\"파이썬은 강력합니다.\")\n",
        "#2번\n",
        "print(\"반갑습니다. 파이썬!\") #반갑습니다. 파이썬!\n",
        "print(2*3/10) #0.6\n",
        "print(\"Hellow\", \"World\",\"!!!\") #Hellow World !!!\n",
        "#3번\n",
        "print(7*24) #168\n",
        "#4번\n",
        "#import turtle\n",
        "#t=turtle.Turtle()\n",
        "#t.shape(\"turtle\")\n",
        "#t.forward(100);\n",
        "#t.left(90)\n",
        "#t.forward(100);\n",
        "#t.right(90)\n",
        "#t.forward(100);\n",
        "#t.right(90)\n",
        "#t.forward(100);\n",
        "#t.left(90)\n",
        "#t.forward(100);\n",
        "#exitonclick()\n",
        "#5번\n",
        "#import turtle\n",
        "#t=turtle.Turtle()\n",
        "#t.shape(\"turtle\")\n",
        "#t.width(10)\n",
        "#t.forward(100)\n",
        "#t.left(90)\n",
        "#t.forward(100)\n",
        "#t._screen.exitonclick()\n",
        "#6번\n",
        "#import turtle\n",
        "#t=turtle.Turtle()\n",
        "#t.shape(\"turtle\")\n",
        "#t.color(\"blue\")\n",
        "#t.forward(100)\n",
        "#t._screen.exitonclick()\n",
        "#7번\n",
        "#import turtle\n",
        "#t=turtle.Turtle()\n",
        "#t.shape(\"turtle\")\n",
        "#t.shape(\"square\")\n",
        "#t.forward(100)\n",
        "#t._screen.exitonclick()\n",
        "#8번\n",
        "#import turtle\n",
        "#t=turtle.Turtle()\n",
        "#t.shape(\"turtle\")\n",
        "#t.up()\n",
        "#t.goto(0, 0)\n",
        "#t.down()\n",
        "#t.forward(100);\n",
        "\n",
        "#t.up()\n",
        "#t.goto(0, 100)\n",
        "#t.down()\n",
        "#t.forward(100);\n",
        "#t._screen.exitonclick()\n",
        "#9번\n",
        "#import turtle\n",
        "#t=turtle.Turtle()\n",
        "#t.shape(\"turtle\")\n",
        "#t.up();t.goto(-150, 0);t.circle(80)\n",
        "#t.up();t.goto(0, 0);t.circle(80)\n",
        "#t.up();t.goto(150, 0);t.circle(80)\n",
        "#t.up();t.goto(-80, -100);t.circle(80)\n",
        "#t.up();t.goto(80, -100);t.circle(80)\n",
        "#t._screen.exitonclick()"
      ],
      "execution_count": null,
      "outputs": [
        {
          "output_type": "stream",
          "name": "stdout",
          "text": [
            "환영합니다.\n",
            "파이썬의 세계에 오신 것을 환영합니다.\n",
            "파이썬은 강력합니다.\n",
            "반갑습니다. 파이썬!\n",
            "0.6\n",
            "Hellow World !!!\n",
            "168\n"
          ]
        }
      ]
    }
  ]
}