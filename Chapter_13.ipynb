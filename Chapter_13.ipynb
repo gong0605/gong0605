{
  "nbformat": 4,
  "nbformat_minor": 0,
  "metadata": {
    "colab": {
      "name": "Chapter_13.ipynb",
      "provenance": [],
      "authorship_tag": "ABX9TyOwOzFI3iy1sHFlrxGwOOHU",
      "include_colab_link": true
    },
    "kernelspec": {
      "name": "python3",
      "display_name": "Python 3"
    },
    "language_info": {
      "name": "python"
    }
  },
  "cells": [
    {
      "cell_type": "markdown",
      "metadata": {
        "id": "view-in-github",
        "colab_type": "text"
      },
      "source": [
        "<a href=\"https://colab.research.google.com/github/gong0605/gong0605/blob/main/Chapter_13.ipynb\" target=\"_parent\"><img src=\"https://colab.research.google.com/assets/colab-badge.svg\" alt=\"Open In Colab\"/></a>"
      ]
    },
    {
      "cell_type": "code",
      "execution_count": 1,
      "metadata": {
        "colab": {
          "base_uri": "https://localhost:8080/"
        },
        "id": "qDK03gApPac3",
        "outputId": "f922dcf2-0912-4fa4-85ad-c63aff68a69e"
      },
      "outputs": [
        {
          "output_type": "stream",
          "name": "stdout",
          "text": [
            "#####\n",
            "#####\n",
            "#####\n",
            "#####\n",
            "#####\n"
          ]
        }
      ],
      "source": [
        "#1번\n",
        "class Circle:\n",
        "  def __init__(self, radius):\n",
        "    self.radius = radius\n",
        "  def calcPerimeter(self):\n",
        "    return 2 * 3.141592 * self.radius\n",
        "  def calcArea(self):\n",
        "    return 3.141592* self.radius*self.radius\n",
        "circle = Circle(100)\n",
        "print(\"반지름: \", circle.radius,\"원의 면적: \", circle.calcArea(), \"원의 둘레: \", circle.calcPerimeter() );\n",
        "print(\"#\"*5)\n",
        "#2번\n",
        "class TV:\n",
        "def __init__(self):\n",
        "  self.channel = 1\n",
        "  self.volume = 0\n",
        "  self.on = False\n",
        "def turnOn(self):\n",
        "  self.on = True\n",
        "def turnOff(self):\n",
        "  self.on = False\n",
        "def setVolume(self, volume):\n",
        "  self.volume = volume\n",
        "def setChannel(self, channel):\n",
        "  self.channel = channel\n",
        "tv = TV()\n",
        "tv.turnOn()\n",
        "tv.setChannel(11)\n",
        "tv.setVolume(6)\n",
        "print(\"TV의 채널: \", tv.channel, \"TV의 음량:\", tv.volume);\n",
        "print(\"#\"*5)\n",
        "#3번\n",
        "#import turtle\n",
        "#lee = turtle.Pen()\n",
        "#park = turtle.Pen()\n",
        "#lee.shape(\"turtle\")\n",
        "#lee.forward(100)\n",
        "#lee.right(90)\n",
        "#lee.forward(20)\n",
        "#lee.left(90)\n",
        "#lee.forward(100)\n",
        "#park.shape(\"circle\")\n",
        "#park.forward(-100)\n",
        "#park.right(90)\n",
        "#park.forward(-20)\n",
        "#park.left(90)\n",
        "#park.forward(-100)\n",
        "print(\"#\"*5)\n",
        "#4번\n",
        "#import turtle\n",
        "#class MyTurtle(turtle.Turtle):\n",
        "#def drawSquare(self):\n",
        "#for i in range(4):\n",
        "#self.right(90)\n",
        "#self.forward(100)\n",
        "#my_turtle = MyTurtle()\n",
        "#my_turtle.forward(100)\n",
        "#my_turtle.drawSquare()\n",
        "print(\"#\"*5)\n",
        "#5번\n",
        "print(\"#\"*5)\n",
        "#6번\n",
        "print(\"#\"*5)\n",
        "#7번\n",
        "print(\"#\"*5)"
      ]
    }
  ]
}