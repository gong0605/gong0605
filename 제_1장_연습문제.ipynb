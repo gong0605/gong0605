{
  "nbformat": 4,
  "nbformat_minor": 0,
  "metadata": {
    "colab": {
      "name": "제 1장 연습문제",
      "provenance": [],
      "collapsed_sections": [],
      "authorship_tag": "ABX9TyNU35DcxuEJYpQtf9IjRjWy",
      "include_colab_link": true
    },
    "kernelspec": {
      "name": "python3",
      "display_name": "Python 3"
    },
    "language_info": {
      "name": "python"
    }
  },
  "cells": [
    {
      "cell_type": "markdown",
      "metadata": {
        "id": "view-in-github",
        "colab_type": "text"
      },
      "source": [
        "<a href=\"https://colab.research.google.com/github/gong0605/gong0605/blob/main/%EC%A0%9C_1%EC%9E%A5_%EC%97%B0%EC%8A%B5%EB%AC%B8%EC%A0%9C.ipynb\" target=\"_parent\"><img src=\"https://colab.research.google.com/assets/colab-badge.svg\" alt=\"Open In Colab\"/></a>"
      ]
    },
    {
      "cell_type": "code",
      "metadata": {
        "id": "dUbrYb0Ajruq",
        "colab": {
          "base_uri": "https://localhost:8080/"
        },
        "outputId": "33929cee-a9dd-4cf7-dc1c-1f8a542b3333"
      },
      "source": [
        "print(\"안녕하세요?\")\n",
        "print(\"programming에 입문하신 것을 축하드립니다.\")\n",
        "print(3.141592*10.0*10.0)\n",
        "print((1/100)*1234)\n"
      ],
      "execution_count": null,
      "outputs": [
        {
          "output_type": "stream",
          "name": "stdout",
          "text": [
            "안녕하세요?\n",
            "programming에 입문하신 것을 축하드립니다.\n",
            "314.1592\n",
            "12.34\n"
          ]
        }
      ]
    },
    {
      "cell_type": "markdown",
      "metadata": {
        "id": "c6jISVJujwcZ"
      },
      "source": [
        "문제 1. \"환영합니다.\", \"파이썬의 세계에 오신 것을 환영합니다.\", \"파이썬은 강력합니다.\"를 화면에 출력하는 프로그램을 작성하시오. 스크립트 모드로 실행한다."
      ]
    }
  ]
}