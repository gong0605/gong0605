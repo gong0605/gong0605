{
  "nbformat": 4,
  "nbformat_minor": 0,
  "metadata": {
    "colab": {
      "name": "Chapter_4.ipynb",
      "provenance": [],
      "authorship_tag": "ABX9TyPAVlRZ4YFAROpMvm3j2aLN",
      "include_colab_link": true
    },
    "kernelspec": {
      "name": "python3",
      "display_name": "Python 3"
    },
    "language_info": {
      "name": "python"
    }
  },
  "cells": [
    {
      "cell_type": "markdown",
      "metadata": {
        "id": "view-in-github",
        "colab_type": "text"
      },
      "source": [
        "<a href=\"https://colab.research.google.com/github/gong0605/gong0605/blob/main/Chapter_4.ipynb\" target=\"_parent\"><img src=\"https://colab.research.google.com/assets/colab-badge.svg\" alt=\"Open In Colab\"/></a>"
      ]
    },
    {
      "cell_type": "code",
      "metadata": {
        "colab": {
          "base_uri": "https://localhost:8080/"
        },
        "id": "St71cbosFUfY",
        "outputId": "10272379-4f4a-4dcd-cd46-562d8684f2eb"
      },
      "source": [
        "#1번\n",
        "#문자열과 숫자는 합칠 수가 없으므로, 숫자를 문자열로 변환한 후 문자열과 합친다.\n",
        "#print(\"나는 \" + str(12) + \"개의 사과를 먹었다.\")\n",
        "print(\"#\"*5)\n",
        "#2번\n",
        "\"apple\"+\"grape\" #applegrape\n",
        "\"appple\"*3 #appleappleapple\n",
        "print(\"#\"*5)\n",
        "#3번\n",
        "str=input(\"문자열을 입력하시오: \")\n",
        "s=str[0:2]+str[-2:]\n",
        "print(s)\n",
        "print(\"#\"*5)\n",
        "#4번\n",
        "s=input(\"문자열을 입력하시오: \")\n",
        "s+=\"하는 중\"\n",
        "print(s)\n",
        "print(\"#\"*5)\n",
        "#5번\n",
        "str=input(\"기호를 입력하시오: \")\n",
        "word=input(\"중간에 삽입할 문자열을 입력하시오: \")\n",
        "s = str[:1] + word + str[1:]\n",
        "print(s)\n",
        "print(\"#\"*5)\n",
        "#6번\n",
        "lista=[1, 2, 3, 4]\n",
        "sum=0\n",
        "sum=lista[0]+lista[1]+lista[2]+lista[3]\n",
        "print(\"리스트 = \", lista)\n",
        "print(\"리스트 숫자들의 합=\",sum)\n",
        "print(\"#\"*5)\n",
        "#7번\n",
        "#import turtle\n",
        "#t=turtle.Turtle()\n",
        "#t.shape(\"turtle\")\n",
        "#lista=[ ]\n",
        "#color=input(\"색상 #1을 입력하시오: \")\n",
        "#lista.append(color)\n",
        "#color=input(\"색상 #2을 입력하시오: \")\n",
        "#lista.append(color)\n",
        "#color=input(\"색상 #3을 입력하시오: \")\n",
        "#lista.append(color)\n",
        "#t.fillcolor(lista[0])\n",
        "#t.begin_fill()\n",
        "#t.circle(50)\n",
        "#t.end-fill()\n",
        "#t.up\n",
        "#t.goto(100, 0)\n",
        "#t.down()\n",
        "#t.fillcolor(lista[1])\n",
        "#t.begin_fill()\n",
        "#t.circle(50)\n",
        "#t.end-fill()\n",
        "#t.up\n",
        "#t.goto(200, 0)\n",
        "#t.down()\n",
        "#t.fillcolor(lista[2])\n",
        "#t.begin_fill()\n",
        "#t.circle(50)\n",
        "#t.end-fill()\n",
        "#t._screen.exitonclick()\n",
        "print(\"#\"*5)\n",
        "#8번\n",
        "#import turtle\n",
        "#t=turtle.Turtle()\n",
        "#t.shape(\"turtle\")\n",
        "#lista= []\n",
        "#lista.append(int(input(\"x1: \")))\n",
        "#lista.append(int(input(\"y1: \")))\n",
        "#lista.append(int(input(\"x2: \")))\n",
        "#ista.append(int(input(\"y2: \")))\n",
        "#lista.append(int(input(\"x3: \")))\n",
        "#lista.append(int(input(\"y3: \")))\n",
        "#t.goto(lista[0], lista[1])\n",
        "#t.goto(lista[2], lista[3])\n",
        "#t.goto(lista[4], lista[5])\n",
        "#t._screen.exitonclick()\n"
      ],
      "execution_count": 17,
      "outputs": [
        {
          "output_type": "stream",
          "name": "stdout",
          "text": [
            "#####\n",
            "#####\n",
            "문자열을 입력하시오: 1\n",
            "11\n",
            "#####\n",
            "문자열을 입력하시오: 2\n",
            "2하는 중\n",
            "#####\n",
            "기호를 입력하시오: 4\n",
            "중간에 삽입할 문자열을 입력하시오: 5\n",
            "45\n",
            "#####\n",
            "리스트 =  [1, 2, 3, 4]\n",
            "리스트 숫자들의 합= 10\n",
            "#####\n",
            "#####\n"
          ]
        }
      ]
    }
  ]
}