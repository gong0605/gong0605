{
  "nbformat": 4,
  "nbformat_minor": 0,
  "metadata": {
    "colab": {
      "name": "도전문제1.ipynb",
      "provenance": [],
      "authorship_tag": "ABX9TyN42gefMzpWh7+v6Nhmvv63",
      "include_colab_link": true
    },
    "kernelspec": {
      "name": "python3",
      "display_name": "Python 3"
    },
    "language_info": {
      "name": "python"
    }
  },
  "cells": [
    {
      "cell_type": "markdown",
      "metadata": {
        "id": "view-in-github",
        "colab_type": "text"
      },
      "source": [
        "<a href=\"https://colab.research.google.com/github/gong0605/gong0605/blob/main/%EB%8F%84%EC%A0%84%EB%AC%B8%EC%A0%9C1.ipynb\" target=\"_parent\"><img src=\"https://colab.research.google.com/assets/colab-badge.svg\" alt=\"Open In Colab\"/></a>"
      ]
    },
    {
      "cell_type": "code",
      "metadata": {
        "id": "nk3LrRxG4z3U"
      },
      "source": [
        "#1-1\n",
        "print(\"안녕하세요?\")\n",
        "#1-2\n",
        "print(\"programming에 입문하신 것을 축하드립니다.\")\n",
        "#1-3\n",
        "print(3.141592*10.0*10.0)\n",
        "#1-4\n",
        "print((1/100)*1234)\n",
        "#1-5\n",
        "#import turtle\n",
        "#t = turtle.Turtle()\n",
        "#t.shape(\"turtle\")\n",
        "#t.forward(100) # 100픽셀만큼 직진\n",
        "#t.left(120) # 120도 회전\n",
        "#t.forward(100)\n",
        "#t.left(120)\n",
        "#t.forward(100)\n",
        "#t.left(120)\n",
        "#1-6\n",
        "#import turtle\n",
        "#t = turtle.Turtle()\n",
        "#t.shape(\"turtle\")\n",
        "#t.forward(100) # 100픽셀만큼 직진 (이동 길이=각 변의 길이)\n",
        "#t.left(90) # 90도 회전\n",
        "#t.forward(100)\n",
        "#t.left(90)\n",
        "#t.forward(100)\n",
        "#t.left(90)\n",
        "#t.forward(100)\n",
        "#t.left(90)\n",
        "#1-7\n",
        "#import turtle\n",
        "#t = turtle.Turtle()\n",
        "#t.shape(\"turtle\")\n",
        "#t.forward(100)\n",
        "#t.left(60)\n",
        "#t.forward(100)\n",
        "#t.left(60)\n",
        "#t.forward(100)\n",
        "#t.left(60)\n",
        "#t.forward(100)\n",
        "#t.left(60)\n",
        "#t.forward(100)\n",
        "#t.left(60)\n",
        "#t.forward(100)\n",
        "#t.left(60)"
      ],
      "execution_count": null,
      "outputs": []
    }
  ]
}