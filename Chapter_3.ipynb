{
  "nbformat": 4,
  "nbformat_minor": 0,
  "metadata": {
    "colab": {
      "name": "Chapter3.ipynb",
      "provenance": [],
      "authorship_tag": "ABX9TyNvUrnbkXDLNITKm0ROif8v",
      "include_colab_link": true
    },
    "kernelspec": {
      "name": "python3",
      "display_name": "Python 3"
    },
    "language_info": {
      "name": "python"
    }
  },
  "cells": [
    {
      "cell_type": "markdown",
      "metadata": {
        "id": "view-in-github",
        "colab_type": "text"
      },
      "source": [
        "<a href=\"https://colab.research.google.com/github/gong0605/gong0605/blob/main/Chapter3.ipynb\" target=\"_parent\"><img src=\"https://colab.research.google.com/assets/colab-badge.svg\" alt=\"Open In Colab\"/></a>"
      ]
    },
    {
      "cell_type": "code",
      "metadata": {
        "colab": {
          "base_uri": "https://localhost:8080/"
        },
        "id": "N0Itm7z9HNiZ",
        "outputId": "07a7a005-5bc0-4e40-b1b1-e7c9064c5168"
      },
      "source": [
        "#1번\n",
        "x=int(input(\"x: \"))\n",
        "y=int(input(\"y: \"))\n",
        "print(\"두수의 합: \", x+y)\n",
        "print(\"두수의 차: \", x-y)\n",
        "print(\"두수의 곱: \", x*y)\n",
        "print(\"두수의 평균: \", (x+y)/2)\n",
        "print(\"큰 수: \", max(x, y))\n",
        "print(\"작은 수: \", min(x, y))\n",
        "#2번\n",
        "r=float(input(\"r: \"))\n",
        "h=float(input(\"h: \"))\n",
        "vol=3.141592*r**2*h\n",
        "print(\"원기둥의 부피: \", vol)\n",
        "#3번\n",
        "number=int(input(\"정수를 입력하시오: \"))\n",
        "sum=0\n",
        "sum=sum+number%10\n",
        "number=number//10\n",
        "sum=sum+number%10\n",
        "number=number//10\n",
        "sum=sum+number%10\n",
        "number=number//10\n",
        "sum=sum+number%10\n",
        "number=number//10\n",
        "print(\"자리수의 합: \",str(sum))\n",
        "#4번\n",
        "x1=int(input(\"x1: \"))\n",
        "y1=int(input(\"y1: \"))\n",
        "x2=int(input(\"x2: \"))\n",
        "y2=int(input(\"y2: \"))\n",
        "dist=((x2-x1)**2+(y2-y1)**2)**0.5\n",
        "print(\"두점사이의 거리=\",dist)\n",
        "#5번\n",
        "#import math\n",
        "x1=int(input(\"x1: \"))\n",
        "y1=int(input(\"y1: \"))\n",
        "x2=int(input(\"x2: \"))\n",
        "y2=int(input(\"y2: \"))\n",
        "dist=math.sqrt((x2-x1)**2+(y2-y1)**2)\n",
        "print(\"두점사이의 거리=\",dist)\n",
        "#impot turtle\n",
        "#t=turtle.Turtle()\n",
        "#t.shape(\"turtle\")\n",
        "#t.left(45)\n",
        "#t.forward(141)\n",
        "#t.setheading(0)\n",
        "#t.goto(0, 0)\n",
        "#t.forward(100)\n",
        "#t.left(90)\n",
        "#t.forward(100)\n",
        "#t._screen.exitionclick()\n",
        "#6번\n",
        "#impot turtle\n",
        "#t=turtle.Turtle()\n",
        "#t.shape(\"turtle\")\n",
        "x1=int(input(\"x1: \"))\n",
        "y1=int(input(\"y1: \"))\n",
        "x2=int(input(\"x2: \"))\n",
        "y2=int(input(\"y2: \"))\n",
        "dist=((x2-x1)**2+(y2-y1)**2)**0.5\n",
        "#t.up()\n",
        "#t.goto(x1, y1)\n",
        "#t.down()\n",
        "#t.goto(x2, y2)\n",
        "#t.write(\"점의 길이=\"+str(dist))\n",
        "#t._screen.exitionclick()\n",
        "#7번\n",
        "import time\n",
        "fseconds=time.time()\n",
        "total_sec=int(fseconds)\n",
        "total_min=total_sec//60\n",
        "minute=total_min%60\n",
        "total_hour=total_min//60\n",
        "hour=total_hour%24\n",
        "print(\"현재 시간(영국 그리니치 시각): \"+str(hour)+\"시\"+str(minute)+\"분\")\n",
        "#8번\n",
        "mass=float(input(\"물체의 무게를 입력하시오(킬로그램): \"))\n",
        "velocity=float(input(\"물체의 속도를 입력하시오(미터/초): \"))\n",
        "energy=0.5*mass*velocity**2\n",
        "print(\"물체는\"+str(energy)+\"(줄)의 에너지를 가지고 있다.\")\n",
        "\n",
        "\n",
        "\n"
      ],
      "execution_count": null,
      "outputs": [
        {
          "output_type": "stream",
          "name": "stdout",
          "text": [
            "x: 4\n",
            "y: 5\n",
            "두수의 합:  9\n",
            "두수의 차:  -1\n",
            "두수의 곱:  20\n",
            "두수의 평균:  4.5\n",
            "큰 수:  5\n",
            "작은 수:  4\n",
            "r: 6\n",
            "h: 7\n",
            "원기둥의 부피:  791.681184\n",
            "정수를 입력하시오: 2\n",
            "자리수의 합:  2\n",
            "x1: 3\n",
            "y1: 4\n",
            "x2: 5\n",
            "y2: 6\n",
            "두점사이의 거리= 2.8284271247461903\n",
            "x1: 3\n",
            "y1: 4\n",
            "x2: 5\n",
            "y2: 6\n",
            "두점사이의 거리= 2.8284271247461903\n",
            "x1: 3\n",
            "y1: 4\n",
            "x2: 5\n",
            "y2: 6\n",
            "현재 시간(영국 그리니치 시각): 1시43분\n",
            "물체의 무게를 입력하시오(킬로그램): 3\n",
            "물체의 속도를 입력하시오(미터/초): 4\n",
            "물체는24.0(줄)의 에너지를 가지고 있다.\n"
          ]
        }
      ]
    }
  ]
}
