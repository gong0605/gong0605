{
  "nbformat": 4,
  "nbformat_minor": 0,
  "metadata": {
    "colab": {
      "name": "Chapyer_5.ipynb",
      "provenance": [],
      "authorship_tag": "ABX9TyOEKJCt/sIpWZePkk0xkobw",
      "include_colab_link": true
    },
    "kernelspec": {
      "name": "python3",
      "display_name": "Python 3"
    },
    "language_info": {
      "name": "python"
    }
  },
  "cells": [
    {
      "cell_type": "markdown",
      "metadata": {
        "id": "view-in-github",
        "colab_type": "text"
      },
      "source": [
        "<a href=\"https://colab.research.google.com/github/gong0605/gong0605/blob/main/Chapyer_5.ipynb\" target=\"_parent\"><img src=\"https://colab.research.google.com/assets/colab-badge.svg\" alt=\"Open In Colab\"/></a>"
      ]
    },
    {
      "cell_type": "code",
      "metadata": {
        "colab": {
          "base_uri": "https://localhost:8080/"
        },
        "id": "t0Efvew_UHDX",
        "outputId": "3b06e5ed-8bd8-4af4-9da6-7db8f6c9e277"
      },
      "source": [
        "#1번\n",
        "age= 20\n",
        "if age < 20:\n",
        "  print(\"20살 미만\")\n",
        "else:\n",
        "  print(\"20살 이상\")\n",
        "#따라서 20살 미만이 출력된다.\n",
        "print(\"#\"*5)\n",
        "#2번\n",
        "age=20\n",
        "if age >=30 and age <=50:\n",
        "  print(\"30살 이상이고 50살 이하\")\n",
        "print(\"#\"*5)\n",
        "#3번\n",
        "temp=int(input(\"현재 온도를 입력하시오: \"))\n",
        "if temp >=25:\n",
        "  print(\"반바지를 입으세요\")\n",
        "else:\n",
        "  print(\"긴바지를 입으세요\")\n",
        "print(\"#\"*5)\n",
        "#4번\n",
        "score=int(input(\"성적을 입력하시오: \"))\n",
        "if score >= 90:\n",
        "   print(\"A학점입니다.\")\n",
        "elif score >= 80:\n",
        " print(\"B학점입니다.\")\n",
        "elif score >= 70:\n",
        "  print(\"C학점입니다.\")\n",
        "elif score >= 60:\n",
        "  print(\"D학점입니다.\")\n",
        "else :\n",
        "  print(\"F학점입니다.\")\n",
        "print(\"#\"*5)\n",
        "#5번\n",
        "import random\n",
        "x = random.randint(1, 100)\n",
        "y = random.randint(1, 100)\n",
        "ans = int(input(str(x)+\"-\"+str(y)+\"=\"))\n",
        "if ans == x -y :\n",
        "   print(\"맞았습니다.\")\n",
        "else :\n",
        "  print(\"틀렸습니다.\")\n",
        "print(\"#\"*5)\n",
        "#6번\n",
        "n = int(input(\"정수를 입력하시오: \"))\n",
        "if n%2==0 and n%3==0:\n",
        "  print(\"2와 3으로 나누어 떨어집니다.\")\n",
        "else :\n",
        "  print(\"2와 3으로 나누어 떨어지지 않습니다.\")\n",
        "print(\"#\"*5)\n",
        "#7번\n",
        "import random\n",
        "solution = random.randint(0, 99)\n",
        "user = int(input(\"복권번호를 입력하시요(0에서 99사이): \"))\n",
        "digit1 = solution // 10\n",
        "digit2 = solution % 10\n",
        "u_digit1 = user // 10\n",
        "u_digit2 = user % 10\n",
        "print(\"당첨번호는\", solution, \"입니다.\")\n",
        "if (digit1 == u_digit1 and digit2 == u_digit2):\n",
        "  print(\"상금은 100만원입니다.\")\n",
        "elif (digit1 == u_digit1 or digit1 == u_digit2 or digit2 == u_digit1 or digit2 == u_digit2):\n",
        "  print(\"상금은 50만원입니다.\")\n",
        "else:\n",
        "  print(\"상금은 없습니다.\")\n",
        "print(\"#\"*5)\n",
        "#8번\n",
        "#import turtle\n",
        "#t = turtle.Turtle()\n",
        "#t.shape(\"turtle\")\n",
        "#x1 = int(input(\"큰 원의 중심좌표 x1: \"))\n",
        "#y1 = int(input(\"큰 원의 중심좌표 y1: \"))\n",
        "#r1 = int(input(\"큰 원의 반지름: \"))\n",
        "#x2 = int(input(\"작은 원의 중심좌표 x2: \"))\n",
        "#y2 = int(input(\"작은 원의 중심좌표 y2: \"))\n",
        "#r2 = int(input(\"작은 원의 반지름: \"))\n",
        "#t.penup()\n",
        "#t.goto(x1, y1)\n",
        "#t.pendown()\n",
        "#t.circle(r1)\n",
        "#t.penup()\n",
        "#t.goto(x2, y2)\n",
        "#t.pendown()\n",
        "#t.circle(r2)\n",
        "#dist = ((x1 - x2) * (x1 - x2) + (y1 - y2) * (y1 - y2)) ** 0.5\n",
        "#if dist <= r1-r2:\n",
        "#  turtle.write(\"두번째 원이 첫번째 원의 내부에 있습니다.\")\n",
        "#elif dist <= r1+r2:\n",
        "#  turtle.write(\"두번째 원이 첫번째 원과 겹칩니다.\")\n",
        "#else:\n",
        "#  turtle.write(\"두번째 원이 첫번째 원과 겹치지 않습니다.\")\n",
        "#t._screen.exitonclick() "
      ],
      "execution_count": 1,
      "outputs": [
        {
          "output_type": "stream",
          "name": "stdout",
          "text": [
            "20살 이상\n",
            "#####\n",
            "#####\n",
            "현재 온도를 입력하시오: 4\n",
            "긴바지를 입으세요\n",
            "#####\n",
            "성적을 입력하시오: 5\n",
            "F학점입니다.\n",
            "#####\n",
            "11-15=6\n",
            "틀렸습니다.\n",
            "#####\n",
            "정수를 입력하시오: 8\n",
            "2와 3으로 나누어 떨어지지 않습니다.\n",
            "#####\n",
            "복권번호를 입력하시요(0에서 99사이): 98\n",
            "당첨번호는 94 입니다.\n",
            "상금은 50만원입니다.\n",
            "#####\n"
          ]
        }
      ]
    }
  ]
}