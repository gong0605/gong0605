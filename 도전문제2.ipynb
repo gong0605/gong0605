{
  "nbformat": 4,
  "nbformat_minor": 0,
  "metadata": {
    "colab": {
      "name": "도전문제2.ipynb",
      "provenance": [],
      "authorship_tag": "ABX9TyMeCKh7d2G+i3AhC/+LiaMp",
      "include_colab_link": true
    },
    "kernelspec": {
      "name": "python3",
      "display_name": "Python 3"
    },
    "language_info": {
      "name": "python"
    }
  },
  "cells": [
    {
      "cell_type": "markdown",
      "metadata": {
        "id": "view-in-github",
        "colab_type": "text"
      },
      "source": [
        "<a href=\"https://colab.research.google.com/github/gong0605/gong0605/blob/main/%EB%8F%84%EC%A0%84%EB%AC%B8%EC%A0%9C2.ipynb\" target=\"_parent\"><img src=\"https://colab.research.google.com/assets/colab-badge.svg\" alt=\"Open In Colab\"/></a>"
      ]
    },
    {
      "cell_type": "code",
      "metadata": {
        "id": "MqJNMc6ohrjk"
      },
      "source": [
        "#1번\n",
        ">> 13\n",
        ">> 76\n",
        "#2번\n",
        "#import turtle\n",
        "#t = turtle.Turtle()\n",
        "#t.shape(\"turtle\")\n",
        "#radius = 50\n",
        "#x = 30\n",
        "#t.circle(radius) \n",
        "#3번\n",
        "x = int(input(\"첫 번째 정수를 입력하시오:\"))\n",
        "y = int(input(\"두 번째 정수를 입력하시오:\"))\n",
        "print(x, \" + \", y, \" = \", x + y)\n",
        "print(x, \" - \", y, \" = \", x - y)\n",
        "print(x, \" * \", y, \" = \", x * y)\n",
        "print(x, \" / \", y, \" = \", x / y)\n",
        "#4번\n",
        "name = input(\"이름을 입력하시오: \")\n",
        "print(name, \"씨, 안녕하세요?\")\n",
        "print(\"파이썬에 오신 것을 환영합니다.\")\n",
        "x = int(input(\"첫 번째 정수를 입력하시오: \"))\n",
        "y = int(input(\"두 번째 정수를 입력하시오: \"))\n",
        "print(x, \"와 \",y, \" 의 합은 \", x + y,\" 입니다.\")"
      ],
      "execution_count": null,
      "outputs": []
    }
  ]
}