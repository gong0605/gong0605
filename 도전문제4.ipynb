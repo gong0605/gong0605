{
  "nbformat": 4,
  "nbformat_minor": 0,
  "metadata": {
    "colab": {
      "name": "도전문제4.ipynb",
      "provenance": [],
      "authorship_tag": "ABX9TyO/vFO0mIfGl1ueS4bsy0dy",
      "include_colab_link": true
    },
    "kernelspec": {
      "name": "python3",
      "display_name": "Python 3"
    },
    "language_info": {
      "name": "python"
    }
  },
  "cells": [
    {
      "cell_type": "markdown",
      "metadata": {
        "id": "view-in-github",
        "colab_type": "text"
      },
      "source": [
        "<a href=\"https://colab.research.google.com/github/gong0605/gong0605/blob/main/%EB%8F%84%EC%A0%84%EB%AC%B8%EC%A0%9C4.ipynb\" target=\"_parent\"><img src=\"https://colab.research.google.com/assets/colab-badge.svg\" alt=\"Open In Colab\"/></a>"
      ]
    },
    {
      "cell_type": "code",
      "execution_count": 1,
      "metadata": {
        "colab": {
          "base_uri": "https://localhost:8080/"
        },
        "id": "hF9aDiDnmUS9",
        "outputId": "af8e8672-68b2-4d9c-e37d-d933b9f5023d"
      },
      "outputs": [
        {
          "output_type": "stream",
          "name": "stdout",
          "text": [
            "#####\n",
            "안녕하세요?\n",
            "이름이 어떻게 되시나요? 공현석\n",
            "만나서 반갑습니다.공현석씨\n",
            "이름의 길이는 다음과 같군요:3\n",
            "나이가 어떻게 되나요? 20\n",
            "내년이면 21 이 되시는군요.\n",
            "취미가 무엇인가요?영화\n",
            "네 저도 영화 좋아합니다.\n",
            "#####\n",
            "오늘의 연도를 입력하시오: 2021\n",
            "오늘의 월을 입력하시오: 12\n",
            "오늘의 일을 입력하시오: 09\n",
            "12/ 09/ 2021\n",
            "#####\n",
            "올해는  2021 입니다.\n",
            "몇 살이신지요? 20\n",
            "2050년에는 49 살 이시군요.\n"
          ]
        }
      ],
      "source": [
        "#1번\n",
        "#import turtle\n",
        "#t = turtle.Turtle()\n",
        "#t.shape(\"turtle\")\n",
        "#s = turtle.textinput(\"이름을 입력하시오: \")\n",
        "#for i in range(4):\n",
        "    #t.write(\"안녕하세요?\" + s + \"씨, 터틀 인사드립니다.\")\n",
        "    #t.left(90) \n",
        "    #t.forward(100)\n",
        "#from turtle import\n",
        "#shape(\"turtle\")\n",
        "#s =textinput(\"\",\"이름을 입력하시오: \")\n",
        "#for i in range(4):\n",
        "    #write(\"안녕하세요?\" + s + \"씨, 터틀 인사드립니다.\")\n",
        "    #left(90)\n",
        "    #forward(100)\n",
        "#exitonclick()\n",
        "print(\"#\"*5)\n",
        "#2번\n",
        "print(\"안녕하세요?\")\n",
        "name =input(\"이름이 어떻게 되시나요? \")\n",
        "print(\"만나서 반갑습니다.\" + name + \"씨\")\n",
        "print(\"이름의 길이는 다음과 같군요:\", end = \"\")\n",
        "print(len(name))\n",
        "age =int(input(\"나이가 어떻게 되나요? \"))\n",
        "print(\"내년이면\",str(age+1),\"이 되시는군요.\")\n",
        "hobby =input(\"취미가 무엇인가요?\")\n",
        "print(\"네 저도 \"+hobby+\" 좋아합니다.\")\n",
        "print(\"#\"*5)\n",
        "#3번\n",
        "year =input(\"오늘의 연도를 입력하시오: \")\n",
        "month=input(\"오늘의 월을 입력하시오: \")\n",
        "date =input(\"오늘의 일을 입력하시오: \")\n",
        "print(month+\"/\", date+\"/\", year)\n",
        "print(\"#\"*5)\n",
        "#4번\n",
        "import time\n",
        "now =time.time()\n",
        "thisYear= int(1970 + now//(365*24*3600))\n",
        "print(\"올해는 \",thisYear,\"입니다.\")\n",
        "age =int(input(\"몇 살이신지요? \"))\n",
        "print(\"2050년에는\",(age+2050-thisYear),\"살 이시군요.\")"
      ]
    }
  ]
}